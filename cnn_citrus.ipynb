{
  "nbformat": 4,
  "nbformat_minor": 0,
  "metadata": {
    "kernelspec": {
      "display_name": "Python 3",
      "language": "python",
      "name": "python3"
    },
    "language_info": {
      "codemirror_mode": {
        "name": "ipython",
        "version": 3
      },
      "file_extension": ".py",
      "mimetype": "text/x-python",
      "name": "python",
      "nbconvert_exporter": "python",
      "pygments_lexer": "ipython3",
      "version": "3.7.3"
    },
    "colab": {
      "name": "cnn_citrus.ipynb",
      "provenance": [],
      "collapsed_sections": []
    }
  },
  "cells": [
    {
      "cell_type": "code",
      "metadata": {
        "id": "HGuUq7WFUyjQ",
        "colab": {
          "base_uri": "https://localhost:8080/",
          "height": 79
        },
        "outputId": "e91f7eb3-2e61-43ca-a294-d54521fc88f0"
      },
      "source": [
        "import numpy as np\n",
        "import pickle\n",
        "import cv2\n",
        "from os import listdir\n",
        "from sklearn.preprocessing import LabelBinarizer\n",
        "from keras.models import Sequential\n",
        "from keras.layers.normalization import BatchNormalization\n",
        "from keras.layers.convolutional import Conv2D\n",
        "from keras.layers.convolutional import MaxPooling2D\n",
        "from keras.layers.core import Activation, Flatten, Dropout, Dense\n",
        "from keras import backend as K\n",
        "from keras.preprocessing.image import ImageDataGenerator\n",
        "from keras.optimizers import Adam\n",
        "#from keras.preprocessing import image\n",
        "from keras.preprocessing.image import img_to_array\n",
        "from sklearn.preprocessing import MultiLabelBinarizer\n",
        "from sklearn.model_selection import train_test_split\n",
        "import matplotlib.pyplot as plt\n",
        "import tensorflow as tf\n",
        "import keras\n",
        "from keras.optimizers import RMSprop"
      ],
      "execution_count": null,
      "outputs": [
        {
          "output_type": "stream",
          "text": [
            "Using TensorFlow backend.\n"
          ],
          "name": "stderr"
        },
        {
          "output_type": "display_data",
          "data": {
            "text/html": [
              "<p style=\"color: red;\">\n",
              "The default version of TensorFlow in Colab will soon switch to TensorFlow 2.x.<br>\n",
              "We recommend you <a href=\"https://www.tensorflow.org/guide/migrate\" target=\"_blank\">upgrade</a> now \n",
              "or ensure your notebook will continue to use TensorFlow 1.x via the <code>%tensorflow_version 1.x</code> magic:\n",
              "<a href=\"https://colab.research.google.com/notebooks/tensorflow_version.ipynb\" target=\"_blank\">more info</a>.</p>\n"
            ],
            "text/plain": [
              "<IPython.core.display.HTML object>"
            ]
          },
          "metadata": {
            "tags": []
          }
        }
      ]
    },
    {
      "cell_type": "code",
      "metadata": {
        "id": "Ygg8MunoUyjU"
      },
      "source": [
        "EPOCHS = 12\n",
        "INIT_LR = 1e-3\n",
        "BS = 32\n",
        "default_image_size = tuple((256, 256))\n",
        "image_size = 0\n",
        "directory_root = 'citrus'\n",
        "width=256\n",
        "height=256\n",
        "depth=3\n"
      ],
      "execution_count": null,
      "outputs": []
    },
    {
      "cell_type": "code",
      "metadata": {
        "id": "JLcL79izUyjW"
      },
      "source": [
        "def convert_image_to_array(image_dir):\n",
        "    try:\n",
        "        image = cv2.imread(image_dir)\n",
        "        if image is not None :\n",
        "            image = cv2.resize(image, default_image_size) \n",
        "            image = cv2.resize(image, (50,50))\n",
        "            return img_to_array(image)\n",
        "        else :\n",
        "            return np.array([])\n",
        "    except Exception as e:\n",
        "        print(f\"Error : {e}\")\n",
        "        return None\n",
        "    "
      ],
      "execution_count": null,
      "outputs": []
    },
    {
      "cell_type": "code",
      "metadata": {
        "id": "Vc_dJlrXUyjY",
        "outputId": "2f39b60a-16b8-48b2-e9b7-dc06d652462e"
      },
      "source": [
        "image_list, label_list = [], []\n",
        "try:\n",
        "    print(\"[INFO] Loading images ...\")\n",
        "    root_dir = listdir(directory_root)\n",
        "    for directory in root_dir :\n",
        "        # remove .DS_Store from list\n",
        "        if directory == \".DS_Store\" :\n",
        "            root_dir.remove(directory)\n",
        "\n",
        "    for plant_folder in root_dir :\n",
        "        plant_disease_folder_list = listdir(f\"{directory_root}/{plant_folder}\")\n",
        "        \n",
        "        for disease_folder in plant_disease_folder_list :\n",
        "            # remove .DS_Store from list\n",
        "            if disease_folder == \".DS_Store\" :\n",
        "                plant_disease_folder_list.remove(disease_folder)\n",
        "\n",
        "        for plant_disease_folder in plant_disease_folder_list:\n",
        "            print(f\"[INFO] Processing {plant_disease_folder} ...\")\n",
        "            plant_disease_image_list = listdir(f\"{directory_root}/{plant_folder}/{plant_disease_folder}/\")\n",
        "                \n",
        "            for single_plant_disease_image in plant_disease_image_list :\n",
        "                if single_plant_disease_image == \".DS_Store\" :\n",
        "                    plant_disease_image_list.remove(single_plant_disease_image)\n",
        "\n",
        "            for image in plant_disease_image_list[:2000]:\n",
        "                image_directory = f\"{directory_root}/{plant_folder}/{plant_disease_folder}/{image}\"\n",
        "                if image_directory.endswith(\".jpg\") == True or image_directory.endswith(\".JPG\") == True:\n",
        "                    image_list.append(convert_image_to_array(image_directory))\n",
        "                    label_list.append(plant_disease_folder)\n",
        "    print(\"[INFO] Image loading completed\")  \n",
        "except Exception as e:\n",
        "    print(f\"Error : {e}\")"
      ],
      "execution_count": null,
      "outputs": [
        {
          "output_type": "stream",
          "text": [
            "[INFO] Loading images ...\n",
            "[INFO] Processing ctv_raw_resized ...\n",
            "[INFO] Processing healthy_raw_resized ...\n",
            "[INFO] Processing hwb_raw_resized ...\n",
            "[INFO] Image loading completed\n"
          ],
          "name": "stdout"
        }
      ]
    },
    {
      "cell_type": "code",
      "metadata": {
        "id": "TnaQWYkLUyja",
        "outputId": "8055d220-a8dd-4c1e-e2e4-262fb81151d1"
      },
      "source": [
        "image_size = len(image_list)\n",
        "\n",
        "label_binarizer = LabelBinarizer()\n",
        "image_labels = label_binarizer.fit_transform(label_list)\n",
        "pickle.dump(label_binarizer,open('label_transform.pkl', 'wb'))\n",
        "n_classes = len(label_binarizer.classes_)\n",
        "\n",
        "print(label_binarizer.classes_)\n",
        "np_image_list = np.array(image_list, dtype=np.float16) / 255.0\n",
        "\n",
        "print(\"[INFO] Spliting data to train, test\")\n",
        "x_train, x_test, y_train, y_test = train_test_split(np_image_list, image_labels, test_size=0.2, random_state = 42) \n",
        "print(image_labels)\n"
      ],
      "execution_count": null,
      "outputs": [
        {
          "output_type": "stream",
          "text": [
            "['ctv_raw_resized' 'healthy_raw_resized' 'hwb_raw_resized']\n",
            "[INFO] Spliting data to train, test\n",
            "[[1 0 0]\n",
            " [1 0 0]\n",
            " [1 0 0]\n",
            " ...\n",
            " [0 0 1]\n",
            " [0 0 1]\n",
            " [0 0 1]]\n"
          ],
          "name": "stdout"
        }
      ]
    },
    {
      "cell_type": "code",
      "metadata": {
        "id": "3M-YoIgxUyjc",
        "outputId": "4100047e-e702-41d6-eb1b-adf6bcdcd0b3"
      },
      "source": [
        "#x_train = x_train.reshape(4915200, 64)\n",
        "#x_test = x_test.reshape(4915200, 64)\n",
        "\n",
        "print(x_train.shape[0], 'train samples')\n",
        "print(x_test.shape[0], 'test samples')\n",
        "\n",
        "\n",
        "x_train = x_train.astype('float32')\n",
        "x_test = x_test.astype('float32')\n",
        "\n",
        "#x_train /= 255\n",
        "#x_test /= 255\n",
        "\n",
        "#y_train = keras.utils.to_categorical(y_train, n_classes)\n",
        "#y_test = keras.utils.to_categorical(y_test, n_classes)\n",
        "\n",
        "print(\"Label:\",y_train[255:256])\n",
        "plt.imshow(x_train[255:256].reshape(75,100), cmap='gray')\n",
        "plt.show()"
      ],
      "execution_count": null,
      "outputs": [
        {
          "output_type": "stream",
          "text": [
            "2351 train samples\n",
            "588 test samples\n",
            "Label: [[1 0 0]]\n"
          ],
          "name": "stdout"
        },
        {
          "output_type": "display_data",
          "data": {
            "image/png": "[encoded data removed]",
            "text/plain": [
              "<Figure size 432x288 with 1 Axes>"
            ]
          },
          "metadata": {
            "tags": [],
            "needs_background": "light"
          }
        }
      ]
    },
    {
      "cell_type": "code",
      "metadata": {
        "id": "GdlaChZ_Uyje",
        "outputId": "43efbf21-9960-4c26-eefe-d6c552a01553"
      },
      "source": [
        "first_layer_size = 32\n",
        "model = Sequential()\n",
        "inputShape = (50, 50, depth)\n",
        "chanDim = -1\n",
        "if K.image_data_format() == \"channels_first\":\n",
        "    inputShape = (depth, height, width)\n",
        "    chanDim = 1\n",
        "# model.add(Conv2D(32, (3, 3), padding=\"same\",input_shape=inputShape))\n",
        "# model.add(Activation(\"relu\"))\n",
        "# model.add(BatchNormalization(axis=chanDim))\n",
        "# model.add(MaxPooling2D(pool_size=(3, 3)))\n",
        "# model.add(Dropout(0.25))\n",
        "# model.add(Conv2D(64, (3, 3), padding=\"same\"))\n",
        "# model.add(Activation(\"relu\"))\n",
        "# model.add(BatchNormalization(axis=chanDim))\n",
        "# model.add(Conv2D(64, (3, 3), padding=\"same\"))\n",
        "# model.add(Activation(\"relu\"))\n",
        "# model.add(BatchNormalization(axis=chanDim))\n",
        "# model.add(MaxPooling2D(pool_size=(2, 2)))\n",
        "# model.add(Dropout(0.25))\n",
        "# model.add(Conv2D(128, (3, 3), padding=\"same\"))\n",
        "# model.add(Activation(\"relu\"))\n",
        "# model.add(BatchNormalization(axis=chanDim))\n",
        "# model.add(Conv2D(128, (3, 3), padding=\"same\"))\n",
        "# model.add(Activation(\"relu\"))\n",
        "# model.add(BatchNormalization(axis=chanDim))\n",
        "# model.add(MaxPooling2D(pool_size=(2, 2)))\n",
        "# model.add(Dropout(0.25))\n",
        "# model.add(Flatten())\n",
        "# model.add(Dense(1024))\n",
        "# model.add(Activation(\"relu\"))\n",
        "# model.add(BatchNormalization())\n",
        "# model.add(Dropout(0.5))\n",
        "# model.add(Dense(n_classes))\n",
        "# model.add(Activation(\"softmax\"))\n",
        "\n",
        "model.add(Conv2D(32, kernel_size=(5, 5), strides=(1, 1),\n",
        "                 activation='relu',\n",
        "                 input_shape=inputShape))\n",
        "model.add(MaxPooling2D(pool_size=(2, 2), strides=(2, 2)))\n",
        "model.add(Conv2D(64, (5, 5), activation='relu'))\n",
        "model.add(MaxPooling2D(pool_size=(2, 2)))\n",
        "model.add(Flatten())\n",
        "model.add(Dense(1000, activation='relu'))\n",
        "model.add(Dense(n_classes, activation='softmax'))\n",
        "\n",
        "model.summary()"
      ],
      "execution_count": null,
      "outputs": [
        {
          "output_type": "stream",
          "text": [
            "W1120 14:10:02.017832  5028 module_wrapper.py:137] From C:\\Users\\Admin\\Anaconda3\\lib\\site-packages\\keras\\backend\\tensorflow_backend.py:74: The name tf.get_default_graph is deprecated. Please use tf.compat.v1.get_default_graph instead.\n",
            "\n",
            "W1120 14:10:02.386980  5028 module_wrapper.py:137] From C:\\Users\\Admin\\Anaconda3\\lib\\site-packages\\keras\\backend\\tensorflow_backend.py:3976: The name tf.nn.max_pool is deprecated. Please use tf.nn.max_pool2d instead.\n",
            "\n"
          ],
          "name": "stderr"
        },
        {
          "output_type": "stream",
          "text": [
            "_________________________________________________________________\n",
            "Layer (type)                 Output Shape              Param #   \n",
            "=================================================================\n",
            "conv2d_1 (Conv2D)            (None, 46, 46, 32)        2432      \n",
            "_________________________________________________________________\n",
            "max_pooling2d_1 (MaxPooling2 (None, 23, 23, 32)        0         \n",
            "_________________________________________________________________\n",
            "conv2d_2 (Conv2D)            (None, 19, 19, 64)        51264     \n",
            "_________________________________________________________________\n",
            "max_pooling2d_2 (MaxPooling2 (None, 9, 9, 64)          0         \n",
            "_________________________________________________________________\n",
            "flatten_1 (Flatten)          (None, 5184)              0         \n",
            "_________________________________________________________________\n",
            "dense_1 (Dense)              (None, 1000)              5185000   \n",
            "_________________________________________________________________\n",
            "dense_2 (Dense)              (None, 3)                 3003      \n",
            "=================================================================\n",
            "Total params: 5,241,699\n",
            "Trainable params: 5,241,699\n",
            "Non-trainable params: 0\n",
            "_________________________________________________________________\n"
          ],
          "name": "stdout"
        }
      ]
    },
    {
      "cell_type": "code",
      "metadata": {
        "id": "z2sZOmIRUyjg",
        "outputId": "becaffee-0661-4462-9d35-f01219716917"
      },
      "source": [
        "w = []\n",
        "for layer in model.layers:\n",
        "    weights = layer.get_weights()\n",
        "    w.append(weights)\n",
        "\n",
        "layer1 = np.array(w[0][0])\n",
        "print(\"Shape of First Layer\",layer1.shape)\n",
        "print(\"Visualization of First Layer\")\n",
        "fig=plt.figure(figsize=(12, 12))\n",
        "columns = 8\n",
        "rows = int(first_layer_size/8)\n",
        "for i in range(1, columns*rows +1):\n",
        "    fig.add_subplot(rows, columns, i)\n",
        "    plt.imshow(layer1[:,i-1].reshape(32,9),cmap='gray')\n",
        "plt.show()"
      ],
      "execution_count": null,
      "outputs": [
        {
          "output_type": "stream",
          "text": [
            "Shape of First Layer (5, 5, 3, 32)\n",
            "Visualization of First Layer\n"
          ],
          "name": "stdout"
        },
        {
          "output_type": "error",
          "ename": "ValueError",
          "evalue": "cannot reshape array of size 480 into shape (32,9)",
          "traceback": [
            "\u001b[1;31m---------------------------------------------------------------------------\u001b[0m",
            "\u001b[1;31mValueError\u001b[0m                                Traceback (most recent call last)",
            "\u001b[1;32m<ipython-input-12-6e8e64da088c>\u001b[0m in \u001b[0;36m<module>\u001b[1;34m\u001b[0m\n\u001b[0;32m     12\u001b[0m \u001b[1;32mfor\u001b[0m \u001b[0mi\u001b[0m \u001b[1;32min\u001b[0m \u001b[0mrange\u001b[0m\u001b[1;33m(\u001b[0m\u001b[1;36m1\u001b[0m\u001b[1;33m,\u001b[0m \u001b[0mcolumns\u001b[0m\u001b[1;33m*\u001b[0m\u001b[0mrows\u001b[0m \u001b[1;33m+\u001b[0m\u001b[1;36m1\u001b[0m\u001b[1;33m)\u001b[0m\u001b[1;33m:\u001b[0m\u001b[1;33m\u001b[0m\u001b[1;33m\u001b[0m\u001b[0m\n\u001b[0;32m     13\u001b[0m     \u001b[0mfig\u001b[0m\u001b[1;33m.\u001b[0m\u001b[0madd_subplot\u001b[0m\u001b[1;33m(\u001b[0m\u001b[0mrows\u001b[0m\u001b[1;33m,\u001b[0m \u001b[0mcolumns\u001b[0m\u001b[1;33m,\u001b[0m \u001b[0mi\u001b[0m\u001b[1;33m)\u001b[0m\u001b[1;33m\u001b[0m\u001b[1;33m\u001b[0m\u001b[0m\n\u001b[1;32m---> 14\u001b[1;33m     \u001b[0mplt\u001b[0m\u001b[1;33m.\u001b[0m\u001b[0mimshow\u001b[0m\u001b[1;33m(\u001b[0m\u001b[0mlayer1\u001b[0m\u001b[1;33m[\u001b[0m\u001b[1;33m:\u001b[0m\u001b[1;33m,\u001b[0m\u001b[0mi\u001b[0m\u001b[1;33m-\u001b[0m\u001b[1;36m1\u001b[0m\u001b[1;33m]\u001b[0m\u001b[1;33m.\u001b[0m\u001b[0mreshape\u001b[0m\u001b[1;33m(\u001b[0m\u001b[1;36m32\u001b[0m\u001b[1;33m,\u001b[0m\u001b[1;36m9\u001b[0m\u001b[1;33m)\u001b[0m\u001b[1;33m,\u001b[0m\u001b[0mcmap\u001b[0m\u001b[1;33m=\u001b[0m\u001b[1;34m'gray'\u001b[0m\u001b[1;33m)\u001b[0m\u001b[1;33m\u001b[0m\u001b[1;33m\u001b[0m\u001b[0m\n\u001b[0m\u001b[0;32m     15\u001b[0m \u001b[0mplt\u001b[0m\u001b[1;33m.\u001b[0m\u001b[0mshow\u001b[0m\u001b[1;33m(\u001b[0m\u001b[1;33m)\u001b[0m\u001b[1;33m\u001b[0m\u001b[1;33m\u001b[0m\u001b[0m\n",
            "\u001b[1;31mValueError\u001b[0m: cannot reshape array of size 480 into shape (32,9)"
          ]
        },
        {
          "output_type": "display_data",
          "data": {
            "image/png": "[encoded data removed]",
            "text/plain": [
              "<Figure size 864x864 with 1 Axes>"
            ]
          },
          "metadata": {
            "tags": [],
            "needs_background": "light"
          }
        }
      ]
    },
    {
      "cell_type": "code",
      "metadata": {
        "id": "WU3vu5cJUyjh",
        "outputId": "37b33468-beb6-4eb3-cbd7-5ff2d261f97f"
      },
      "source": [
        "opt = Adam(lr=INIT_LR, decay=INIT_LR / EPOCHS)\n",
        "# distribution\n",
        "model.compile(loss=\"categorical_crossentropy\", optimizer=RMSprop(),metrics=[\"accuracy\"])\n",
        "# train the network\n",
        "print(\"[INFO] training network...\")\n",
        "\n",
        "\n",
        "\n",
        "#history = model.fit_generator(\n",
        "#    aug.flow(x_train, y_train, batch_size=BS),\n",
        "#    validation_data=(x_test, y_test),\n",
        "#    steps_per_epoch=len(x_train) // BS,\n",
        "#    epochs=EPOCHS, verbose=1\n",
        "#    )\n",
        "history = model.fit(x_train,y_train,validation_split=0.25,\n",
        "                    batch_size=BS,\n",
        "                    epochs=EPOCHS,validation_data=(x_test, y_test),\n",
        "                    verbose=1)"
      ],
      "execution_count": null,
      "outputs": [
        {
          "output_type": "stream",
          "text": [
            "W1120 14:10:22.472360  5028 module_wrapper.py:137] From C:\\Users\\Admin\\Anaconda3\\lib\\site-packages\\keras\\optimizers.py:790: The name tf.train.Optimizer is deprecated. Please use tf.compat.v1.train.Optimizer instead.\n",
            "\n"
          ],
          "name": "stderr"
        },
        {
          "output_type": "stream",
          "text": [
            "[INFO] training network...\n"
          ],
          "name": "stdout"
        },
        {
          "output_type": "stream",
          "text": [
            "W1120 14:10:22.686372  5028 deprecation.py:323] From C:\\Users\\Admin\\Anaconda3\\lib\\site-packages\\tensorflow_core\\python\\ops\\math_grad.py:1424: where (from tensorflow.python.ops.array_ops) is deprecated and will be removed in a future version.\n",
            "Instructions for updating:\n",
            "Use tf.where in 2.0, which has the same broadcast rule as np.where\n"
          ],
          "name": "stderr"
        },
        {
          "output_type": "stream",
          "text": [
            "Train on 2351 samples, validate on 588 samples\n",
            "Epoch 1/12\n",
            "2351/2351 [==============================] - 11s 5ms/step - loss: 0.7377 - acc: 0.7218 - val_loss: 0.8153 - val_acc: 0.6905\n",
            "Epoch 2/12\n",
            "2351/2351 [==============================] - 10s 4ms/step - loss: 0.2923 - acc: 0.9085 - val_loss: 0.1408 - val_acc: 0.9575\n",
            "Epoch 3/12\n",
            "2351/2351 [==============================] - 10s 4ms/step - loss: 0.2135 - acc: 0.9387 - val_loss: 0.0699 - val_acc: 0.9762\n",
            "Epoch 4/12\n",
            "2351/2351 [==============================] - 10s 4ms/step - loss: 0.1154 - acc: 0.9609 - val_loss: 0.4996 - val_acc: 0.8622\n",
            "Epoch 5/12\n",
            "2351/2351 [==============================] - 11s 4ms/step - loss: 0.1739 - acc: 0.9541 - val_loss: 0.1051 - val_acc: 0.9711\n",
            "Epoch 6/12\n",
            "2351/2351 [==============================] - 10s 4ms/step - loss: 0.0826 - acc: 0.9736 - val_loss: 0.0403 - val_acc: 0.9881\n",
            "Epoch 7/12\n",
            "2351/2351 [==============================] - 10s 4ms/step - loss: 0.0818 - acc: 0.9792 - val_loss: 0.0877 - val_acc: 0.9660\n",
            "Epoch 8/12\n",
            "2351/2351 [==============================] - 10s 4ms/step - loss: 0.1117 - acc: 0.9698 - val_loss: 0.0633 - val_acc: 0.9847\n",
            "Epoch 9/12\n",
            "2351/2351 [==============================] - 10s 4ms/step - loss: 0.0642 - acc: 0.9800 - val_loss: 0.0976 - val_acc: 0.9779\n",
            "Epoch 10/12\n",
            "2351/2351 [==============================] - 10s 4ms/step - loss: 0.1112 - acc: 0.9724 - val_loss: 0.0443 - val_acc: 0.9898\n",
            "Epoch 11/12\n",
            "2351/2351 [==============================] - 10s 4ms/step - loss: 0.0486 - acc: 0.9838 - val_loss: 0.0810 - val_acc: 0.9796\n",
            "Epoch 12/12\n",
            "2351/2351 [==============================] - 10s 4ms/step - loss: 0.0763 - acc: 0.9847 - val_loss: 0.0486 - val_acc: 0.9915\n"
          ],
          "name": "stdout"
        }
      ]
    },
    {
      "cell_type": "code",
      "metadata": {
        "id": "s8dXMzY4Uyjj",
        "outputId": "992903c3-5734-4994-a998-a96c348bd56d"
      },
      "source": [
        "import matplotlib.pylab as plt\n",
        "import numpy as np\n",
        "\n",
        "acc = history.history['acc']\n",
        "val_acc = history.history['val_acc']\n",
        "\n",
        "loss = history.history['loss']\n",
        "val_loss = history.history['val_loss']\n",
        "\n",
        "epochs_range = range(EPOCHS)\n",
        "\n",
        "plt.figure(figsize=(8, 8))\n",
        "plt.subplot(1, 2, 1)\n",
        "plt.plot(epochs_range, acc, label='Training Accuracy')\n",
        "plt.plot(epochs_range, val_acc, label='Validation Accuracy')\n",
        "plt.legend(loc='lower right')\n",
        "plt.title('Training and Validation Accuracy')\n",
        "plt.ylabel(\"Accuracy (training and validation)\")\n",
        "plt.xlabel(\"Training Steps\")\n",
        "\n",
        "plt.subplot(1, 2, 2)\n",
        "plt.plot(epochs_range, loss, label='Training Loss')\n",
        "plt.plot(epochs_range, val_loss, label='Validation Loss')\n",
        "plt.legend(loc='upper right')\n",
        "plt.title('Training and Validation Loss')\n",
        "plt.ylabel(\"Loss (training and validation)\")\n",
        "plt.xlabel(\"Training Steps\")\n",
        "plt.savefig('citrus_graph.png',dpi=400)\n",
        "plt.show()\n",
        "\n",
        "\n"
      ],
      "execution_count": null,
      "outputs": [
        {
          "output_type": "display_data",
          "data": {
            "image/png": "[encoded data removed]",
            "text/plain": [
              "<Figure size 576x576 with 2 Axes>"
            ]
          },
          "metadata": {
            "tags": [],
            "needs_background": "light"
          }
        }
      ]
    },
    {
      "cell_type": "code",
      "metadata": {
        "id": "sWTEzAPrUyjl",
        "outputId": "aeb792ec-1201-4785-c769-b8d8390527f9"
      },
      "source": [
        "history_dict = history.history\n",
        "print(history_dict.keys())"
      ],
      "execution_count": null,
      "outputs": [
        {
          "output_type": "stream",
          "text": [
            "dict_keys(['val_loss', 'val_acc', 'loss', 'acc'])\n"
          ],
          "name": "stdout"
        }
      ]
    },
    {
      "cell_type": "code",
      "metadata": {
        "id": "SMjm3Q_wUyjm",
        "outputId": "5f9a3c23-f0ed-43c9-b1f8-0d6d08897431"
      },
      "source": [
        "w = []\n",
        "for layer in model.layers:\n",
        "    weights = layer.get_weights()\n",
        "    w.append(weights)\n",
        "\n",
        "layer3 = np.array(w[0][0])\n",
        "print(\"Shape of First Layer\",layer1.shape)\n",
        "print(\"Visualization of First Layer\")\n",
        "fig=plt.figure(figsize=(12, 12))\n",
        "columns = 8\n",
        "rows = int(first_layer_size/8)\n",
        "for i in range(1, columns*rows +1):\n",
        "    fig.add_subplot(rows, columns, i)\n",
        "    plt.imshow(layer3[:,i-1].reshape(32,9),cmap='gray')\n",
        "plt.show()\n",
        "\n"
      ],
      "execution_count": null,
      "outputs": [
        {
          "output_type": "stream",
          "text": [
            "Shape of First Layer (5, 5, 3, 32)\n",
            "Visualization of First Layer\n"
          ],
          "name": "stdout"
        },
        {
          "output_type": "error",
          "ename": "ValueError",
          "evalue": "cannot reshape array of size 480 into shape (32,9)",
          "traceback": [
            "\u001b[1;31m---------------------------------------------------------------------------\u001b[0m",
            "\u001b[1;31mValueError\u001b[0m                                Traceback (most recent call last)",
            "\u001b[1;32m<ipython-input-16-077fb47c3f71>\u001b[0m in \u001b[0;36m<module>\u001b[1;34m\u001b[0m\n\u001b[0;32m     12\u001b[0m \u001b[1;32mfor\u001b[0m \u001b[0mi\u001b[0m \u001b[1;32min\u001b[0m \u001b[0mrange\u001b[0m\u001b[1;33m(\u001b[0m\u001b[1;36m1\u001b[0m\u001b[1;33m,\u001b[0m \u001b[0mcolumns\u001b[0m\u001b[1;33m*\u001b[0m\u001b[0mrows\u001b[0m \u001b[1;33m+\u001b[0m\u001b[1;36m1\u001b[0m\u001b[1;33m)\u001b[0m\u001b[1;33m:\u001b[0m\u001b[1;33m\u001b[0m\u001b[1;33m\u001b[0m\u001b[0m\n\u001b[0;32m     13\u001b[0m     \u001b[0mfig\u001b[0m\u001b[1;33m.\u001b[0m\u001b[0madd_subplot\u001b[0m\u001b[1;33m(\u001b[0m\u001b[0mrows\u001b[0m\u001b[1;33m,\u001b[0m \u001b[0mcolumns\u001b[0m\u001b[1;33m,\u001b[0m \u001b[0mi\u001b[0m\u001b[1;33m)\u001b[0m\u001b[1;33m\u001b[0m\u001b[1;33m\u001b[0m\u001b[0m\n\u001b[1;32m---> 14\u001b[1;33m     \u001b[0mplt\u001b[0m\u001b[1;33m.\u001b[0m\u001b[0mimshow\u001b[0m\u001b[1;33m(\u001b[0m\u001b[0mlayer3\u001b[0m\u001b[1;33m[\u001b[0m\u001b[1;33m:\u001b[0m\u001b[1;33m,\u001b[0m\u001b[0mi\u001b[0m\u001b[1;33m-\u001b[0m\u001b[1;36m1\u001b[0m\u001b[1;33m]\u001b[0m\u001b[1;33m.\u001b[0m\u001b[0mreshape\u001b[0m\u001b[1;33m(\u001b[0m\u001b[1;36m32\u001b[0m\u001b[1;33m,\u001b[0m\u001b[1;36m9\u001b[0m\u001b[1;33m)\u001b[0m\u001b[1;33m,\u001b[0m\u001b[0mcmap\u001b[0m\u001b[1;33m=\u001b[0m\u001b[1;34m'gray'\u001b[0m\u001b[1;33m)\u001b[0m\u001b[1;33m\u001b[0m\u001b[1;33m\u001b[0m\u001b[0m\n\u001b[0m\u001b[0;32m     15\u001b[0m \u001b[0mplt\u001b[0m\u001b[1;33m.\u001b[0m\u001b[0mshow\u001b[0m\u001b[1;33m(\u001b[0m\u001b[1;33m)\u001b[0m\u001b[1;33m\u001b[0m\u001b[1;33m\u001b[0m\u001b[0m\n\u001b[0;32m     16\u001b[0m \u001b[1;33m\u001b[0m\u001b[0m\n",
            "\u001b[1;31mValueError\u001b[0m: cannot reshape array of size 480 into shape (32,9)"
          ]
        },
        {
          "output_type": "display_data",
          "data": {
            "image/png": "[encoded data removed]",
            "text/plain": [
              "<Figure size 864x864 with 1 Axes>"
            ]
          },
          "metadata": {
            "tags": [],
            "needs_background": "light"
          }
        }
      ]
    },
    {
      "cell_type": "code",
      "metadata": {
        "id": "R5YcDJfQUyjo",
        "outputId": "2fd6f406-51f6-4904-da50-a2575e8fcce2"
      },
      "source": [
        "print(\"[INFO] Calculating model accuracy\")\n",
        "scores = model.evaluate(x_test, y_test)\n",
        "print(f\"Test Accuracy: {scores[1]*100}\")"
      ],
      "execution_count": null,
      "outputs": [
        {
          "output_type": "stream",
          "text": [
            "[INFO] Calculating model accuracy\n",
            "588/588 [==============================] - 0s 768us/step\n",
            "Test Accuracy: 99.14965986394559\n"
          ],
          "name": "stdout"
        }
      ]
    },
    {
      "cell_type": "code",
      "metadata": {
        "id": "O5AspfSRUyjq",
        "outputId": "818c378c-b77c-46cf-85b5-d0e77fa8ac60"
      },
      "source": [
        "score = model.evaluate(x_test, y_test, verbose=0)\n",
        "print('Test loss:', score[0])\n",
        "print('Test accuracy:', score[1])"
      ],
      "execution_count": null,
      "outputs": [
        {
          "output_type": "stream",
          "text": [
            "Test loss: 0.04861512763781487\n",
            "Test accuracy: 0.9914965986394558\n"
          ],
          "name": "stdout"
        }
      ]
    },
    {
      "cell_type": "code",
      "metadata": {
        "id": "fMnoHiNUUyjr",
        "outputId": "80f63ee1-5dbb-45c3-9777-9c2e8481baa1"
      },
      "source": [
        "prediction = model.predict(x_test[23:24])\n",
        "prediction = prediction[0]\n",
        "print('Prediction\\n',prediction)\n",
        "print('\\nThresholded output\\n',(prediction>0.5)*1)"
      ],
      "execution_count": null,
      "outputs": [
        {
          "output_type": "stream",
          "text": [
            "Prediction\n",
            " [1.03998726e-13 1.23173009e-30 1.00000000e+00]\n",
            "\n",
            "Thresholded output\n",
            " [0 0 1]\n"
          ],
          "name": "stdout"
        }
      ]
    },
    {
      "cell_type": "code",
      "metadata": {
        "id": "RQN4n49qUyjt",
        "outputId": "a0c2f76e-a8d4-4b88-e841-b05eb7264a63"
      },
      "source": [
        "plt.imshow(x_test[23:24].reshape(100,75),cmap='gray')\n",
        "plt.show()"
      ],
      "execution_count": null,
      "outputs": [
        {
          "output_type": "display_data",
          "data": {
            "image/png": "[encoded data removed]",
            "text/plain": [
              "<Figure size 432x288 with 1 Axes>"
            ]
          },
          "metadata": {
            "tags": [],
            "needs_background": "light"
          }
        }
      ]
    },
    {
      "cell_type": "code",
      "metadata": {
        "id": "lmaGAabbUyjv"
      },
      "source": [
        "from sklearn.model_selection import train_test_split\n",
        "from sklearn.metrics import confusion_matrix\n",
        "from sklearn.utils.multiclass import unique_labels\n",
        "\n",
        "def plot_confusion_matrix(y_true, y_pred, classes,\n",
        "                          normalize=False,\n",
        "                          title=None,\n",
        "                          cmap=plt.cm.Blues):\n",
        "    \"\"\"\n",
        "    This function prints and plots the confusion matrix.\n",
        "    Normalization can be applied by setting `normalize=True`.\n",
        "    \"\"\"\n",
        "    if not title:\n",
        "        if normalize:\n",
        "            title = 'Normalized confusion matrix'\n",
        "        else:\n",
        "            title = 'Confusion matrix, without normalization'\n",
        "\n",
        "    # Compute confusion matrix\n",
        "    cm = confusion_matrix(y_true, y_pred)\n",
        "    # Only use the labels that appear in the data\n",
        "    classes = classes[unique_labels(y_true, y_pred)]\n",
        "    if normalize:\n",
        "        cm = cm.astype('float') / cm.sum(axis=1)[:, np.newaxis]\n",
        "        print(\"Normalized confusion matrix\")\n",
        "    else:\n",
        "        print('Confusion matrix, without normalization')\n",
        "\n",
        "    print(cm)\n",
        "\n",
        "    fig, ax = plt.subplots()\n",
        "    im = ax.imshow(cm, interpolation='nearest', cmap=cmap)\n",
        "    ax.figure.colorbar(im, ax=ax)\n",
        "    # We want to show all ticks...\n",
        "    ax.set(xticks=np.arange(cm.shape[1]),\n",
        "           yticks=np.arange(cm.shape[0]),\n",
        "           # ... and label them with the respective list entries\n",
        "           xticklabels=classes, yticklabels=classes,\n",
        "           title=title,\n",
        "           ylabel='True label',\n",
        "           xlabel='Predicted label')\n",
        "\n",
        "    # Rotate the tick labels and set their alignment.\n",
        "    plt.setp(ax.get_xticklabels(), rotation=45, ha=\"right\",\n",
        "             rotation_mode=\"anchor\")\n",
        "\n",
        "    # Loop over data dimensions and create text annotations.\n",
        "    fmt = '.2f' if normalize else 'd'\n",
        "    thresh = cm.max() / 2.\n",
        "    for i in range(cm.shape[0]):\n",
        "        for j in range(cm.shape[1]):\n",
        "            ax.text(j, i, format(cm[i, j], fmt),\n",
        "                    ha=\"center\", va=\"center\",\n",
        "                    color=\"white\" if cm[i, j] > thresh else \"blue\")\n",
        "    fig.tight_layout()\n",
        "    return ax"
      ],
      "execution_count": null,
      "outputs": []
    },
    {
      "cell_type": "code",
      "metadata": {
        "id": "u9_RYC0YUyjw"
      },
      "source": [
        "np.set_printoptions(precision=2)"
      ],
      "execution_count": null,
      "outputs": []
    },
    {
      "cell_type": "code",
      "metadata": {
        "id": "ZNBuXjSaUyjy"
      },
      "source": [
        "prediction = model.predict(x_test, batch_size=10, verbose=0)\n",
        "rounded_prediction = model.predict_classes(x_test, batch_size=10, verbose=0)\n",
        "#y_pred=np.argmax(y_pred, axis=1)"
      ],
      "execution_count": null,
      "outputs": []
    },
    {
      "cell_type": "code",
      "metadata": {
        "id": "jgtX1N_qUyjz",
        "outputId": "769f6e11-d930-4b82-8715-cee059177597"
      },
      "source": [
        "for i in rounded_prediction:\n",
        "    print(i)"
      ],
      "execution_count": null,
      "outputs": [
        {
          "output_type": "stream",
          "text": [
            "2\n",
            "0\n",
            "2\n",
            "0\n",
            "1\n",
            "0\n",
            "2\n",
            "1\n",
            "1\n",
            "2\n",
            "0\n",
            "0\n",
            "2\n",
            "2\n",
            "2\n",
            "1\n",
            "2\n",
            "0\n",
            "0\n",
            "1\n",
            "2\n",
            "1\n",
            "1\n",
            "2\n",
            "0\n",
            "0\n",
            "2\n",
            "0\n",
            "2\n",
            "1\n",
            "1\n",
            "0\n",
            "0\n",
            "2\n",
            "1\n",
            "2\n",
            "2\n",
            "2\n",
            "2\n",
            "1\n",
            "2\n",
            "2\n",
            "1\n",
            "0\n",
            "2\n",
            "0\n",
            "2\n",
            "1\n",
            "0\n",
            "0\n",
            "1\n",
            "2\n",
            "1\n",
            "2\n",
            "2\n",
            "2\n",
            "2\n",
            "1\n",
            "2\n",
            "0\n",
            "2\n",
            "2\n",
            "1\n",
            "0\n",
            "1\n",
            "2\n",
            "0\n",
            "0\n",
            "0\n",
            "2\n",
            "0\n",
            "0\n",
            "1\n",
            "0\n",
            "2\n",
            "2\n",
            "2\n",
            "0\n",
            "0\n",
            "2\n",
            "1\n",
            "1\n",
            "1\n",
            "1\n",
            "0\n",
            "1\n",
            "2\n",
            "2\n",
            "1\n",
            "1\n",
            "2\n",
            "2\n",
            "2\n",
            "1\n",
            "0\n",
            "0\n",
            "1\n",
            "0\n",
            "1\n",
            "1\n",
            "2\n",
            "0\n",
            "0\n",
            "1\n",
            "2\n",
            "0\n",
            "2\n",
            "0\n",
            "1\n",
            "2\n",
            "0\n",
            "2\n",
            "1\n",
            "1\n",
            "2\n",
            "0\n",
            "2\n",
            "2\n",
            "1\n",
            "2\n",
            "1\n",
            "2\n",
            "2\n",
            "1\n",
            "2\n",
            "0\n",
            "1\n",
            "1\n",
            "1\n",
            "1\n",
            "0\n",
            "0\n",
            "1\n",
            "1\n",
            "2\n",
            "1\n",
            "0\n",
            "0\n",
            "2\n",
            "0\n",
            "1\n",
            "2\n",
            "1\n",
            "2\n",
            "0\n",
            "1\n",
            "1\n",
            "1\n",
            "1\n",
            "0\n",
            "2\n",
            "0\n",
            "2\n",
            "1\n",
            "2\n",
            "0\n",
            "0\n",
            "2\n",
            "0\n",
            "1\n",
            "2\n",
            "0\n",
            "1\n",
            "1\n",
            "1\n",
            "2\n",
            "1\n",
            "2\n",
            "0\n",
            "2\n",
            "1\n",
            "1\n",
            "0\n",
            "1\n",
            "1\n",
            "2\n",
            "0\n",
            "2\n",
            "2\n",
            "0\n",
            "0\n",
            "2\n",
            "0\n",
            "1\n",
            "0\n",
            "1\n",
            "0\n",
            "0\n",
            "0\n",
            "0\n",
            "2\n",
            "1\n",
            "2\n",
            "0\n",
            "0\n",
            "0\n",
            "1\n",
            "1\n",
            "0\n",
            "0\n",
            "0\n",
            "2\n",
            "1\n",
            "0\n",
            "1\n",
            "1\n",
            "1\n",
            "2\n",
            "1\n",
            "1\n",
            "0\n",
            "0\n",
            "0\n",
            "2\n",
            "2\n",
            "2\n",
            "1\n",
            "0\n",
            "1\n",
            "2\n",
            "0\n",
            "0\n",
            "2\n",
            "0\n",
            "0\n",
            "2\n",
            "0\n",
            "2\n",
            "0\n",
            "1\n",
            "0\n",
            "1\n",
            "1\n",
            "0\n",
            "1\n",
            "1\n",
            "0\n",
            "1\n",
            "1\n",
            "1\n",
            "0\n",
            "1\n",
            "2\n",
            "2\n",
            "0\n",
            "0\n",
            "1\n",
            "1\n",
            "0\n",
            "2\n",
            "2\n",
            "0\n",
            "1\n",
            "1\n",
            "0\n",
            "0\n",
            "0\n",
            "0\n",
            "0\n",
            "2\n",
            "1\n",
            "0\n",
            "0\n",
            "2\n",
            "2\n",
            "0\n",
            "1\n",
            "0\n",
            "2\n",
            "1\n",
            "1\n",
            "1\n",
            "1\n",
            "2\n",
            "0\n",
            "1\n",
            "2\n",
            "1\n",
            "1\n",
            "2\n",
            "2\n",
            "0\n",
            "1\n",
            "2\n",
            "0\n",
            "0\n",
            "1\n",
            "2\n",
            "1\n",
            "2\n",
            "2\n",
            "1\n",
            "1\n",
            "0\n",
            "2\n",
            "2\n",
            "0\n",
            "1\n",
            "1\n",
            "0\n",
            "2\n",
            "0\n",
            "2\n",
            "1\n",
            "1\n",
            "0\n",
            "2\n",
            "2\n",
            "1\n",
            "1\n",
            "1\n",
            "0\n",
            "1\n",
            "2\n",
            "2\n",
            "2\n",
            "0\n",
            "2\n",
            "1\n",
            "2\n",
            "2\n",
            "0\n",
            "0\n",
            "1\n",
            "1\n",
            "0\n",
            "2\n",
            "2\n",
            "2\n",
            "0\n",
            "1\n",
            "0\n",
            "0\n",
            "1\n",
            "0\n",
            "2\n",
            "0\n",
            "0\n",
            "2\n",
            "0\n",
            "1\n",
            "0\n",
            "0\n",
            "1\n",
            "1\n",
            "1\n",
            "0\n",
            "1\n",
            "0\n",
            "0\n",
            "1\n",
            "1\n",
            "0\n",
            "1\n",
            "1\n",
            "1\n",
            "2\n",
            "2\n",
            "2\n",
            "0\n",
            "1\n",
            "0\n",
            "2\n",
            "2\n",
            "0\n",
            "1\n",
            "1\n",
            "0\n",
            "0\n",
            "0\n",
            "0\n",
            "0\n",
            "0\n",
            "0\n",
            "2\n",
            "0\n",
            "0\n",
            "1\n",
            "2\n",
            "2\n",
            "0\n",
            "1\n",
            "1\n",
            "1\n",
            "1\n",
            "2\n",
            "0\n",
            "2\n",
            "2\n",
            "2\n",
            "1\n",
            "2\n",
            "1\n",
            "0\n",
            "1\n",
            "1\n",
            "2\n",
            "2\n",
            "1\n",
            "1\n",
            "0\n",
            "2\n",
            "1\n",
            "2\n",
            "1\n",
            "0\n",
            "0\n",
            "0\n",
            "1\n",
            "1\n",
            "1\n",
            "2\n",
            "2\n",
            "0\n",
            "2\n",
            "1\n",
            "1\n",
            "2\n",
            "1\n",
            "2\n",
            "2\n",
            "1\n",
            "0\n",
            "0\n",
            "2\n",
            "2\n",
            "0\n",
            "0\n",
            "0\n",
            "0\n",
            "1\n",
            "2\n",
            "0\n",
            "2\n",
            "2\n",
            "1\n",
            "2\n",
            "1\n",
            "2\n",
            "2\n",
            "2\n",
            "0\n",
            "2\n",
            "0\n",
            "0\n",
            "0\n",
            "2\n",
            "2\n",
            "0\n",
            "0\n",
            "0\n",
            "0\n",
            "2\n",
            "0\n",
            "0\n",
            "2\n",
            "1\n",
            "1\n",
            "0\n",
            "2\n",
            "0\n",
            "0\n",
            "2\n",
            "2\n",
            "0\n",
            "0\n",
            "2\n",
            "2\n",
            "0\n",
            "1\n",
            "2\n",
            "1\n",
            "0\n",
            "1\n",
            "1\n",
            "2\n",
            "1\n",
            "1\n",
            "2\n",
            "2\n",
            "2\n",
            "1\n",
            "1\n",
            "0\n",
            "1\n",
            "2\n",
            "0\n",
            "2\n",
            "0\n",
            "2\n",
            "2\n",
            "0\n",
            "0\n",
            "1\n",
            "1\n",
            "2\n",
            "2\n",
            "1\n",
            "0\n",
            "2\n",
            "0\n",
            "0\n",
            "1\n",
            "0\n",
            "2\n",
            "1\n",
            "1\n",
            "2\n",
            "0\n",
            "0\n",
            "0\n",
            "1\n",
            "2\n",
            "0\n",
            "0\n",
            "0\n",
            "2\n",
            "0\n",
            "0\n",
            "0\n",
            "0\n",
            "1\n",
            "0\n",
            "0\n",
            "2\n",
            "0\n",
            "0\n",
            "1\n",
            "2\n",
            "2\n",
            "2\n",
            "1\n",
            "0\n",
            "0\n",
            "1\n",
            "1\n",
            "1\n",
            "0\n",
            "2\n",
            "2\n",
            "2\n",
            "1\n",
            "1\n",
            "0\n",
            "2\n",
            "0\n",
            "2\n",
            "2\n",
            "1\n",
            "2\n",
            "0\n",
            "0\n",
            "0\n",
            "0\n",
            "2\n",
            "2\n",
            "1\n",
            "2\n",
            "2\n",
            "0\n",
            "1\n",
            "1\n",
            "1\n",
            "2\n",
            "0\n",
            "1\n",
            "1\n",
            "2\n",
            "1\n",
            "2\n",
            "0\n",
            "2\n",
            "2\n",
            "2\n",
            "0\n",
            "2\n",
            "2\n",
            "0\n",
            "1\n",
            "2\n",
            "0\n",
            "2\n",
            "2\n",
            "0\n",
            "1\n",
            "0\n",
            "2\n",
            "2\n"
          ],
          "name": "stdout"
        }
      ]
    },
    {
      "cell_type": "code",
      "metadata": {
        "id": "RB1ihx7CUyj2",
        "outputId": "b4f1428c-50ce-4b1f-ef22-7e4664e73590"
      },
      "source": [
        "from sklearn.metrics import classification_report,confusion_matrix\n",
        "\n",
        "# Y_pred = model.predict(x_test)\n",
        "# print(Y_pred)\n",
        "# y_pred = np.argmax(Y_pred, axis=1)\n",
        "# print(y_pred)\n",
        " \n",
        "#                        (or)\n",
        "\n",
        "y_pred = model.predict_classes(x_test)\n",
        "print(y_pred)\n",
        "\n",
        "p=model.predict_proba(x_test) # to predict probability\n",
        "\n",
        "# target_names = ['class 0(BIKES)', 'class 1(CARS)', 'class 2(HORSES)']\n",
        "print(label_binarizer.classes_)\n",
        "target_names = label_binarizer.classes_\n",
        "print(classification_report(np.argmax(y_test,axis=1), y_pred,target_names=target_names))\n",
        "print(confusion_matrix(np.argmax(y_test,axis=1), y_pred))\n"
      ],
      "execution_count": null,
      "outputs": [
        {
          "output_type": "stream",
          "text": [
            "[2 0 2 0 1 0 2 1 1 2 0 0 2 2 2 1 2 0 0 1 2 1 1 2 0 0 2 0 2 1 1 0 0 2 1 2 2\n",
            " 2 2 1 2 2 1 0 2 0 2 1 0 0 1 2 1 2 2 2 2 1 2 0 2 2 1 0 1 2 0 0 0 2 0 0 1 0\n",
            " 2 2 2 0 0 2 1 1 1 1 0 1 2 2 1 1 2 2 2 1 0 0 1 0 1 1 2 0 0 1 2 0 2 0 1 2 0\n",
            " 2 1 1 2 0 2 2 1 2 1 2 2 1 2 0 1 1 1 1 0 0 1 1 2 1 0 0 2 0 1 2 1 2 0 1 1 1\n",
            " 1 0 2 0 2 1 2 0 0 2 0 1 2 0 1 1 1 2 1 2 0 2 1 1 0 1 1 2 0 2 2 0 0 2 0 1 0\n",
            " 1 0 0 0 0 2 1 2 0 0 0 1 1 0 0 0 2 1 0 1 1 1 2 1 1 0 0 0 2 2 2 1 0 1 2 0 0\n",
            " 2 0 0 2 0 2 0 1 0 1 1 0 1 1 0 1 1 1 0 1 2 2 0 0 1 1 0 2 2 0 1 1 0 0 0 0 0\n",
            " 2 1 0 0 2 2 0 1 0 2 1 1 1 1 2 0 1 2 1 1 2 2 0 1 2 0 0 1 2 1 2 2 1 1 0 2 2\n",
            " 0 1 1 0 2 0 2 1 1 0 2 2 1 1 1 0 1 2 2 2 0 2 1 2 2 0 0 1 1 0 2 2 2 0 1 0 0\n",
            " 1 0 2 0 0 2 0 1 0 0 1 1 1 0 1 0 0 1 1 0 1 1 1 2 2 2 0 1 0 2 2 0 1 1 0 0 0\n",
            " 0 0 0 0 2 0 0 1 2 2 0 1 1 1 1 2 0 2 2 2 1 2 1 0 1 1 2 2 1 1 0 2 1 2 1 0 0\n",
            " 0 1 1 1 2 2 0 2 1 1 2 1 2 2 1 0 0 2 2 0 0 0 0 1 2 0 2 2 1 2 1 2 2 2 0 2 0\n",
            " 0 0 2 2 0 0 0 0 2 0 0 2 1 1 0 2 0 0 2 2 0 0 2 2 0 1 2 1 0 1 1 2 1 1 2 2 2\n",
            " 1 1 0 1 2 0 2 0 2 2 0 0 1 1 2 2 1 0 2 0 0 1 0 2 1 1 2 0 0 0 1 2 0 0 0 2 0\n",
            " 0 0 0 1 0 0 2 0 0 1 2 2 2 1 0 0 1 1 1 0 2 2 2 1 1 0 2 0 2 2 1 2 0 0 0 0 2\n",
            " 2 1 2 2 0 1 1 1 2 0 1 1 2 1 2 0 2 2 2 0 2 2 0 1 2 0 2 2 0 1 0 2 2]\n",
            "['ctv_raw_resized' 'healthy_raw_resized' 'hwb_raw_resized']\n",
            "                     precision    recall  f1-score   support\n",
            "\n",
            "    ctv_raw_resized       1.00      0.98      0.99       208\n",
            "healthy_raw_resized       0.98      0.99      0.99       182\n",
            "    hwb_raw_resized       1.00      1.00      1.00       198\n",
            "\n",
            "           accuracy                           0.99       588\n",
            "          macro avg       0.99      0.99      0.99       588\n",
            "       weighted avg       0.99      0.99      0.99       588\n",
            "\n",
            "[[204   4   0]\n",
            " [  1 181   0]\n",
            " [  0   0 198]]\n"
          ],
          "name": "stdout"
        }
      ]
    },
    {
      "cell_type": "code",
      "metadata": {
        "id": "Zm4z9ZjrUyj4",
        "outputId": "33babb62-45bd-41fb-9ca0-3cd1da37037b"
      },
      "source": [
        "plot_confusion_matrix(np.argmax(y_test,axis=1), y_pred, classes=label_binarizer.classes_, normalize=True,\n",
        "                      title='Normalized confusion matrix')"
      ],
      "execution_count": null,
      "outputs": [
        {
          "output_type": "stream",
          "text": [
            "Normalized confusion matrix\n",
            "[[0.98 0.02 0.  ]\n",
            " [0.01 0.99 0.  ]\n",
            " [0.   0.   1.  ]]\n"
          ],
          "name": "stdout"
        },
        {
          "output_type": "execute_result",
          "data": {
            "text/plain": [
              "<matplotlib.axes._subplots.AxesSubplot at 0xf905894cf8>"
            ]
          },
          "metadata": {
            "tags": []
          },
          "execution_count": 26
        },
        {
          "output_type": "display_data",
          "data": {
            "image/png": "[encoded data removed]",
            "text/plain": [
              "<Figure size 432x288 with 2 Axes>"
            ]
          },
          "metadata": {
            "tags": [],
            "needs_background": "light"
          }
        }
      ]
    },
    {
      "cell_type": "code",
      "metadata": {
        "id": "M54GIAvaUyj8",
        "outputId": "2127faf0-149e-4e72-a8cb-87747e24bac7"
      },
      "source": [
        "plot_confusion_matrix(np.argmax(y_test,axis=1), y_pred, classes=label_binarizer.classes_,\n",
        "                      title='Confusion matrix, without normalization')\n"
      ],
      "execution_count": null,
      "outputs": [
        {
          "output_type": "stream",
          "text": [
            "Confusion matrix, without normalization\n",
            "[[204   4   0]\n",
            " [  1 181   0]\n",
            " [  0   0 198]]\n"
          ],
          "name": "stdout"
        },
        {
          "output_type": "execute_result",
          "data": {
            "text/plain": [
              "<matplotlib.axes._subplots.AxesSubplot at 0xf90593cf28>"
            ]
          },
          "metadata": {
            "tags": []
          },
          "execution_count": 27
        },
        {
          "output_type": "display_data",
          "data": {
            "image/png": "[encoded data removed]",
            "text/plain": [
              "<Figure size 432x288 with 2 Axes>"
            ]
          },
          "metadata": {
            "tags": [],
            "needs_background": "light"
          }
        }
      ]
    },
    {
      "cell_type": "code",
      "metadata": {
        "id": "dSkoe29xUyj9"
      },
      "source": [
        ""
      ],
      "execution_count": null,
      "outputs": []
    }
  ]
}